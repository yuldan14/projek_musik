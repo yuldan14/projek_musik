{
 "cells": [
  {
   "cell_type": "markdown",
   "metadata": {},
   "source": [
    "# Business Understanding"
   ]
  },
  {
   "cell_type": "markdown",
   "metadata": {},
   "source": [
    "Tujuan umum dari analisis dataset ini adalah untuk memahami variabel apa yang mempengaruhi biaya asuransi. Tujuan lain adalah untuk menentukan apakah kita dapat memprediksi biaya asuransi berdasarkan variabel tambahan seperti usia, jenis kelamin, berat badan tubuh (BMI), jumlah anak, status perokok, dan lokasi tempat tinggal.\n",
    "\n",
    "Dengan melakukan analisis data dari kumpulan data ini, kita dapat mendapatkan informasi seperti pengaruh usia, status perokok, dan indeks massa tubuh (BMI) terhadap biaya asuransi. Kita juga dapat melakukan regresi untuk memprediksi biaya asuransi berdasarkan metrik ini."
   ]
  },
  {
   "cell_type": "markdown",
   "metadata": {},
   "source": [
    "# Data Understanding"
   ]
  },
  {
   "cell_type": "markdown",
   "metadata": {},
   "source": [
    "Dataset ini biasanya terdiri dari beberapa kolom yang mewakili berbagai atribut atau fitur. Beberapa kolom umum yang biasanya ada dalam dataset asuransi mencakup:\n",
    "\n",
    "- age: Usia.\n",
    "- sex: Jenis kelamin.\n",
    "- bmi: Indeks Massa Tubuh (BMI).\n",
    "- children: Jumlah anak/anak-anak dalam tanggungan.\n",
    "- smoker: Status perokok.\n",
    "- region: Wilayah tempat tinggal atau terdaftar.\n",
    "- charges: Biaya asuransi yang dibayarkan."
   ]
  },
  {
   "cell_type": "markdown",
   "metadata": {},
   "source": [
    "**Pyspark Set Up**"
   ]
  },
  {
   "cell_type": "code",
   "execution_count": 24,
   "metadata": {},
   "outputs": [
    {
     "name": "stdout",
     "output_type": "stream",
     "text": [
      "Requirement already satisfied: pyspark in /usr/local/python/3.12.1/lib/python3.12/site-packages (3.5.3)\n",
      "Requirement already satisfied: py4j==0.10.9.7 in /usr/local/python/3.12.1/lib/python3.12/site-packages (from pyspark) (0.10.9.7)\n",
      "\n",
      "\u001b[1m[\u001b[0m\u001b[34;49mnotice\u001b[0m\u001b[1;39;49m]\u001b[0m\u001b[39;49m A new release of pip is available: \u001b[0m\u001b[31;49m24.2\u001b[0m\u001b[39;49m -> \u001b[0m\u001b[32;49m24.3.1\u001b[0m\n",
      "\u001b[1m[\u001b[0m\u001b[34;49mnotice\u001b[0m\u001b[1;39;49m]\u001b[0m\u001b[39;49m To update, run: \u001b[0m\u001b[32;49mpython3 -m pip install --upgrade pip\u001b[0m\n"
     ]
    }
   ],
   "source": [
    "!pip install pyspark"
   ]
  },
  {
   "cell_type": "code",
   "execution_count": 25,
   "metadata": {},
   "outputs": [],
   "source": [
    "from pyspark.sql import SparkSession\n",
    "from pyspark.sql.functions import col, sum, when\n",
    "from pyspark.sql.functions import udf\n",
    "from pyspark.sql.types import IntegerType\n",
    "from pyspark.ml.feature import StringIndexer, OneHotEncoder\n",
    "from pyspark.ml import Pipeline"
   ]
  },
  {
   "cell_type": "code",
   "execution_count": 26,
   "metadata": {},
   "outputs": [],
   "source": [
    "spark = SparkSession.builder.appName(\"Asuransi\").getOrCreate()"
   ]
  },
  {
   "cell_type": "markdown",
   "metadata": {},
   "source": [
    "## Data Preparation"
   ]
  },
  {
   "cell_type": "code",
   "execution_count": 27,
   "metadata": {},
   "outputs": [
    {
     "data": {
      "text/html": [
       "<div>\n",
       "<style scoped>\n",
       "    .dataframe tbody tr th:only-of-type {\n",
       "        vertical-align: middle;\n",
       "    }\n",
       "\n",
       "    .dataframe tbody tr th {\n",
       "        vertical-align: top;\n",
       "    }\n",
       "\n",
       "    .dataframe thead th {\n",
       "        text-align: right;\n",
       "    }\n",
       "</style>\n",
       "<table border=\"1\" class=\"dataframe\">\n",
       "  <thead>\n",
       "    <tr style=\"text-align: right;\">\n",
       "      <th></th>\n",
       "      <th>age</th>\n",
       "      <th>sex</th>\n",
       "      <th>bmi</th>\n",
       "      <th>children</th>\n",
       "      <th>smoker</th>\n",
       "      <th>region</th>\n",
       "      <th>charges</th>\n",
       "    </tr>\n",
       "  </thead>\n",
       "  <tbody>\n",
       "    <tr>\n",
       "      <th>0</th>\n",
       "      <td>19</td>\n",
       "      <td>female</td>\n",
       "      <td>27.900</td>\n",
       "      <td>0</td>\n",
       "      <td>yes</td>\n",
       "      <td>southwest</td>\n",
       "      <td>16884.92400</td>\n",
       "    </tr>\n",
       "    <tr>\n",
       "      <th>1</th>\n",
       "      <td>18</td>\n",
       "      <td>male</td>\n",
       "      <td>33.770</td>\n",
       "      <td>1</td>\n",
       "      <td>no</td>\n",
       "      <td>southeast</td>\n",
       "      <td>1725.55230</td>\n",
       "    </tr>\n",
       "    <tr>\n",
       "      <th>2</th>\n",
       "      <td>28</td>\n",
       "      <td>male</td>\n",
       "      <td>33.000</td>\n",
       "      <td>3</td>\n",
       "      <td>no</td>\n",
       "      <td>southeast</td>\n",
       "      <td>4449.46200</td>\n",
       "    </tr>\n",
       "    <tr>\n",
       "      <th>3</th>\n",
       "      <td>33</td>\n",
       "      <td>male</td>\n",
       "      <td>22.705</td>\n",
       "      <td>0</td>\n",
       "      <td>no</td>\n",
       "      <td>northwest</td>\n",
       "      <td>21984.47061</td>\n",
       "    </tr>\n",
       "    <tr>\n",
       "      <th>4</th>\n",
       "      <td>32</td>\n",
       "      <td>male</td>\n",
       "      <td>28.880</td>\n",
       "      <td>0</td>\n",
       "      <td>no</td>\n",
       "      <td>northwest</td>\n",
       "      <td>3866.85520</td>\n",
       "    </tr>\n",
       "    <tr>\n",
       "      <th>...</th>\n",
       "      <td>...</td>\n",
       "      <td>...</td>\n",
       "      <td>...</td>\n",
       "      <td>...</td>\n",
       "      <td>...</td>\n",
       "      <td>...</td>\n",
       "      <td>...</td>\n",
       "    </tr>\n",
       "    <tr>\n",
       "      <th>1333</th>\n",
       "      <td>50</td>\n",
       "      <td>male</td>\n",
       "      <td>30.970</td>\n",
       "      <td>3</td>\n",
       "      <td>no</td>\n",
       "      <td>northwest</td>\n",
       "      <td>10600.54830</td>\n",
       "    </tr>\n",
       "    <tr>\n",
       "      <th>1334</th>\n",
       "      <td>18</td>\n",
       "      <td>female</td>\n",
       "      <td>31.920</td>\n",
       "      <td>0</td>\n",
       "      <td>no</td>\n",
       "      <td>northeast</td>\n",
       "      <td>2205.98080</td>\n",
       "    </tr>\n",
       "    <tr>\n",
       "      <th>1335</th>\n",
       "      <td>18</td>\n",
       "      <td>female</td>\n",
       "      <td>36.850</td>\n",
       "      <td>0</td>\n",
       "      <td>no</td>\n",
       "      <td>southeast</td>\n",
       "      <td>1629.83350</td>\n",
       "    </tr>\n",
       "    <tr>\n",
       "      <th>1336</th>\n",
       "      <td>21</td>\n",
       "      <td>female</td>\n",
       "      <td>25.800</td>\n",
       "      <td>0</td>\n",
       "      <td>no</td>\n",
       "      <td>southwest</td>\n",
       "      <td>2007.94500</td>\n",
       "    </tr>\n",
       "    <tr>\n",
       "      <th>1337</th>\n",
       "      <td>61</td>\n",
       "      <td>female</td>\n",
       "      <td>29.070</td>\n",
       "      <td>0</td>\n",
       "      <td>yes</td>\n",
       "      <td>northwest</td>\n",
       "      <td>29141.36030</td>\n",
       "    </tr>\n",
       "  </tbody>\n",
       "</table>\n",
       "<p>1338 rows × 7 columns</p>\n",
       "</div>"
      ],
      "text/plain": [
       "      age     sex     bmi  children smoker     region      charges\n",
       "0      19  female  27.900         0    yes  southwest  16884.92400\n",
       "1      18    male  33.770         1     no  southeast   1725.55230\n",
       "2      28    male  33.000         3     no  southeast   4449.46200\n",
       "3      33    male  22.705         0     no  northwest  21984.47061\n",
       "4      32    male  28.880         0     no  northwest   3866.85520\n",
       "...   ...     ...     ...       ...    ...        ...          ...\n",
       "1333   50    male  30.970         3     no  northwest  10600.54830\n",
       "1334   18  female  31.920         0     no  northeast   2205.98080\n",
       "1335   18  female  36.850         0     no  southeast   1629.83350\n",
       "1336   21  female  25.800         0     no  southwest   2007.94500\n",
       "1337   61  female  29.070         0    yes  northwest  29141.36030\n",
       "\n",
       "[1338 rows x 7 columns]"
      ]
     },
     "execution_count": 27,
     "metadata": {},
     "output_type": "execute_result"
    }
   ],
   "source": [
    "df = spark.read.csv(\"insurance.csv\", header=True, inferSchema=True)\n",
    "df.toPandas()"
   ]
  },
  {
   "cell_type": "markdown",
   "metadata": {},
   "source": [
    "Dataset ini terdiri dari 1338 baris data dengan banyaknya variabel terdapat 6 variabel independen(yang mempengaruhi) dan 1 variabel dependen(target/dipegaruhi)"
   ]
  },
  {
   "cell_type": "code",
   "execution_count": 28,
   "metadata": {},
   "outputs": [
    {
     "name": "stdout",
     "output_type": "stream",
     "text": [
      "root\n",
      " |-- age: integer (nullable = true)\n",
      " |-- sex: string (nullable = true)\n",
      " |-- bmi: double (nullable = true)\n",
      " |-- children: integer (nullable = true)\n",
      " |-- smoker: string (nullable = true)\n",
      " |-- region: string (nullable = true)\n",
      " |-- charges: double (nullable = true)\n",
      "\n"
     ]
    }
   ],
   "source": [
    "df.printSchema()"
   ]
  },
  {
   "cell_type": "code",
   "execution_count": 29,
   "metadata": {},
   "outputs": [
    {
     "name": "stdout",
     "output_type": "stream",
     "text": [
      "+-------+------------------+------+------------------+-----------------+------+---------+------------------+\n",
      "|summary|               age|   sex|               bmi|         children|smoker|   region|           charges|\n",
      "+-------+------------------+------+------------------+-----------------+------+---------+------------------+\n",
      "|  count|              1338|  1338|              1338|             1338|  1338|     1338|              1338|\n",
      "|   mean| 39.20702541106129|  NULL|30.663396860986538|  1.0949177877429|  NULL|     NULL|13270.422265141257|\n",
      "| stddev|14.049960379216147|  NULL| 6.098186911679012|1.205492739781914|  NULL|     NULL|12110.011236693992|\n",
      "|    min|                18|female|             15.96|                0|    no|northeast|         1121.8739|\n",
      "|    max|                64|  male|             53.13|                5|   yes|southwest|       63770.42801|\n",
      "+-------+------------------+------+------------------+-----------------+------+---------+------------------+\n",
      "\n"
     ]
    }
   ],
   "source": [
    "df.describe().show()"
   ]
  },
  {
   "cell_type": "markdown",
   "metadata": {},
   "source": [
    "Dari deskripsi di atas, terdapat asumsi adanya outlier pada variabel anak di mana rata-rata nasabah asuransi memiliki satu anak, namun ada nasabah yang memiliki 5 anak. Selain itu, pada variabel charges juga terdapat indikasi adanya outlier yaitu pada nilai max mencapai 63 ribu yang mana jauh dari rata-rata. Hal ini perlu dilakukan analisis lebih lanjut pada tahapan EDA. Selain itu, terlihat tidak adanya data kosong pada tiap varibel nya dengan jumlah data masing masing variabel sebanyak 1338 data."
   ]
  },
  {
   "cell_type": "markdown",
   "metadata": {},
   "source": [
    "## Data Duplikat"
   ]
  },
  {
   "cell_type": "code",
   "execution_count": 30,
   "metadata": {},
   "outputs": [
    {
     "name": "stdout",
     "output_type": "stream",
     "text": [
      "+---+----+-----+--------+------+---------+---------+-----+\n",
      "|age| sex|  bmi|children|smoker|   region|  charges|count|\n",
      "+---+----+-----+--------+------+---------+---------+-----+\n",
      "| 19|male|30.59|       0|    no|northwest|1639.5631|    2|\n",
      "+---+----+-----+--------+------+---------+---------+-----+\n",
      "\n"
     ]
    }
   ],
   "source": [
    "duplicate_rows = df.groupBy(df.columns).count().filter(col(\"count\") > 1)\n",
    "duplicate_rows.show()\n"
   ]
  },
  {
   "cell_type": "markdown",
   "metadata": {},
   "source": [
    "Terdapat 1 baris data duplikat sehingga perlu dihapus untuk mengoptimalkan model regresi yang akan dibuat. Menghapus data duplikat penting dalam banyak kasus untuk memastikan kualitas data dan akurasi analisis atau model yang dibangun.\n"
   ]
  },
  {
   "cell_type": "code",
   "execution_count": 31,
   "metadata": {},
   "outputs": [],
   "source": [
    "df = df.dropDuplicates()"
   ]
  },
  {
   "cell_type": "code",
   "execution_count": 32,
   "metadata": {},
   "outputs": [
    {
     "name": "stdout",
     "output_type": "stream",
     "text": [
      "+---+---+---+--------+------+------+-------+-----+\n",
      "|age|sex|bmi|children|smoker|region|charges|count|\n",
      "+---+---+---+--------+------+------+-------+-----+\n",
      "+---+---+---+--------+------+------+-------+-----+\n",
      "\n"
     ]
    }
   ],
   "source": [
    "\n",
    "duplicate_rows = df.groupBy(df.columns).count().filter(col(\"count\") > 1)\n",
    "duplicate_rows.show()\n"
   ]
  },
  {
   "cell_type": "markdown",
   "metadata": {},
   "source": [
    "# Feature Engineering\n"
   ]
  },
  {
   "cell_type": "markdown",
   "metadata": {},
   "source": [
    "### 1. Mengubah jenis kelamin menjadi binary value"
   ]
  },
  {
   "cell_type": "code",
   "execution_count": 33,
   "metadata": {},
   "outputs": [
    {
     "name": "stdout",
     "output_type": "stream",
     "text": [
      "+------+-----+\n",
      "|   sex|count|\n",
      "+------+-----+\n",
      "|female|  662|\n",
      "|  male|  675|\n",
      "+------+-----+\n",
      "\n"
     ]
    }
   ],
   "source": [
    "sex = df.groupBy(\"sex\").count()\n",
    "sex.show()"
   ]
  },
  {
   "cell_type": "markdown",
   "metadata": {},
   "source": [
    "Dalam dataset ini terdapat 662 nasabah wanita dan 675 nasabah pria. Hal ini menunjukan perbandingan nasabah pria dan wanita hampir seimbang. Tahapapn selanjutnya saya ingin mengubah nilai pria menjadi 1 dan wanita menjadi 0"
   ]
  },
  {
   "cell_type": "code",
   "execution_count": 34,
   "metadata": {},
   "outputs": [
    {
     "name": "stdout",
     "output_type": "stream",
     "text": [
      "+---+------+--------+------+---------+-----------+----------+\n",
      "|age|   bmi|children|smoker|   region|    charges|sex_binary|\n",
      "+---+------+--------+------+---------+-----------+----------+\n",
      "| 60|  39.9|       0|   yes|southwest|  48173.361|         1|\n",
      "| 40|26.315|       1|    no|northwest| 6389.37785|         1|\n",
      "| 54|  30.8|       3|    no|southwest|   12105.32|         0|\n",
      "| 46|  22.3|       0|    no|southwest|   7147.105|         1|\n",
      "| 18| 17.29|       2|   yes|northeast| 12829.4551|         1|\n",
      "| 45|  30.2|       1|    no|southwest|   7441.053|         1|\n",
      "| 29| 29.64|       1|    no|northeast|20277.80751|         1|\n",
      "| 34| 25.27|       1|    no|northwest|  4894.7533|         1|\n",
      "| 18|29.165|       0|    no|northeast|7323.734819|         0|\n",
      "| 61| 25.08|       0|    no|southeast|24513.09126|         0|\n",
      "| 21| 26.03|       0|    no|northeast|  2102.2647|         1|\n",
      "| 52|18.335|       0|    no|northwest| 9991.03765|         0|\n",
      "| 62| 32.68|       0|    no|northwest| 13844.7972|         0|\n",
      "| 39|26.315|       2|    no|northwest| 7201.70085|         0|\n",
      "| 48|40.565|       2|   yes|northwest|45702.02235|         1|\n",
      "| 61|33.915|       0|    no|northeast|13143.86485|         1|\n",
      "| 33| 39.82|       1|    no|southeast|  4795.6568|         0|\n",
      "| 32|29.735|       0|    no|northwest| 4357.04365|         0|\n",
      "| 61| 29.07|       0|   yes|northwest| 29141.3603|         0|\n",
      "| 49| 27.17|       0|    no|southeast|  8601.3293|         0|\n",
      "+---+------+--------+------+---------+-----------+----------+\n",
      "only showing top 20 rows\n",
      "\n"
     ]
    }
   ],
   "source": [
    "df = df.withColumn('sex_binary', when(df['sex'] == 'male', 1).otherwise(0))\n",
    "df = df.drop('sex')\n",
    "df.show()"
   ]
  },
  {
   "cell_type": "markdown",
   "metadata": {},
   "source": [
    "### 2. Mengubah nilai kolom smoker menjadi binary"
   ]
  },
  {
   "cell_type": "code",
   "execution_count": 35,
   "metadata": {},
   "outputs": [
    {
     "name": "stdout",
     "output_type": "stream",
     "text": [
      "+---+------+--------+---------+-----------+----------+-------------+\n",
      "|age|   bmi|children|   region|    charges|sex_binary|smoker_binary|\n",
      "+---+------+--------+---------+-----------+----------+-------------+\n",
      "| 60|  39.9|       0|southwest|  48173.361|         1|            1|\n",
      "| 40|26.315|       1|northwest| 6389.37785|         1|            0|\n",
      "| 54|  30.8|       3|southwest|   12105.32|         0|            0|\n",
      "| 46|  22.3|       0|southwest|   7147.105|         1|            0|\n",
      "| 18| 17.29|       2|northeast| 12829.4551|         1|            1|\n",
      "| 45|  30.2|       1|southwest|   7441.053|         1|            0|\n",
      "| 29| 29.64|       1|northeast|20277.80751|         1|            0|\n",
      "| 34| 25.27|       1|northwest|  4894.7533|         1|            0|\n",
      "| 18|29.165|       0|northeast|7323.734819|         0|            0|\n",
      "| 61| 25.08|       0|southeast|24513.09126|         0|            0|\n",
      "| 21| 26.03|       0|northeast|  2102.2647|         1|            0|\n",
      "| 52|18.335|       0|northwest| 9991.03765|         0|            0|\n",
      "| 62| 32.68|       0|northwest| 13844.7972|         0|            0|\n",
      "| 39|26.315|       2|northwest| 7201.70085|         0|            0|\n",
      "| 48|40.565|       2|northwest|45702.02235|         1|            1|\n",
      "| 61|33.915|       0|northeast|13143.86485|         1|            0|\n",
      "| 33| 39.82|       1|southeast|  4795.6568|         0|            0|\n",
      "| 32|29.735|       0|northwest| 4357.04365|         0|            0|\n",
      "| 61| 29.07|       0|northwest| 29141.3603|         0|            1|\n",
      "| 49| 27.17|       0|southeast|  8601.3293|         0|            0|\n",
      "+---+------+--------+---------+-----------+----------+-------------+\n",
      "only showing top 20 rows\n",
      "\n"
     ]
    }
   ],
   "source": [
    "df = df.withColumn('smoker_binary', when(df['smoker'] == 'yes', 1).otherwise(0))\n",
    "df = df.drop('smoker')\n",
    "df.show()"
   ]
  },
  {
   "cell_type": "markdown",
   "metadata": {},
   "source": [
    "### 3. Mengubah nilai region"
   ]
  },
  {
   "cell_type": "code",
   "execution_count": 36,
   "metadata": {},
   "outputs": [
    {
     "name": "stdout",
     "output_type": "stream",
     "text": [
      "+---------+-----+\n",
      "|   region|count|\n",
      "+---------+-----+\n",
      "|northwest|  324|\n",
      "|southeast|  364|\n",
      "|northeast|  324|\n",
      "|southwest|  325|\n",
      "+---------+-----+\n",
      "\n"
     ]
    }
   ],
   "source": [
    "region = df.groupBy('region').count()\n",
    "region.show()"
   ]
  },
  {
   "cell_type": "markdown",
   "metadata": {},
   "source": [
    "Kita perlu mengubah nilai ini menjadi angka dengan membuat fungsi sebagai berikut.\n",
    "- northwest = 0\n",
    "- southeast = 1\n",
    "- northeast = 2\n",
    "- southwest = 3"
   ]
  },
  {
   "cell_type": "code",
   "execution_count": 37,
   "metadata": {},
   "outputs": [
    {
     "name": "stdout",
     "output_type": "stream",
     "text": [
      "+---+------+--------+-----------+----------+-------------+------------+\n",
      "|age|   bmi|children|    charges|sex_binary|smoker_binary|Region_Index|\n",
      "+---+------+--------+-----------+----------+-------------+------------+\n",
      "| 60|  39.9|       0|  48173.361|         1|            1|           3|\n",
      "| 40|26.315|       1| 6389.37785|         1|            0|           0|\n",
      "| 54|  30.8|       3|   12105.32|         0|            0|           3|\n",
      "| 46|  22.3|       0|   7147.105|         1|            0|           3|\n",
      "| 18| 17.29|       2| 12829.4551|         1|            1|           2|\n",
      "| 45|  30.2|       1|   7441.053|         1|            0|           3|\n",
      "| 29| 29.64|       1|20277.80751|         1|            0|           2|\n",
      "| 34| 25.27|       1|  4894.7533|         1|            0|           0|\n",
      "| 18|29.165|       0|7323.734819|         0|            0|           2|\n",
      "| 61| 25.08|       0|24513.09126|         0|            0|           1|\n",
      "| 21| 26.03|       0|  2102.2647|         1|            0|           2|\n",
      "| 52|18.335|       0| 9991.03765|         0|            0|           0|\n",
      "| 62| 32.68|       0| 13844.7972|         0|            0|           0|\n",
      "| 39|26.315|       2| 7201.70085|         0|            0|           0|\n",
      "| 48|40.565|       2|45702.02235|         1|            1|           0|\n",
      "| 61|33.915|       0|13143.86485|         1|            0|           2|\n",
      "| 33| 39.82|       1|  4795.6568|         0|            0|           1|\n",
      "| 32|29.735|       0| 4357.04365|         0|            0|           0|\n",
      "| 61| 29.07|       0| 29141.3603|         0|            1|           0|\n",
      "| 49| 27.17|       0|  8601.3293|         0|            0|           1|\n",
      "+---+------+--------+-----------+----------+-------------+------------+\n",
      "only showing top 20 rows\n",
      "\n"
     ]
    }
   ],
   "source": [
    "def index(region):\n",
    "    if region == 'northwest':\n",
    "        return 0\n",
    "    elif region == 'southeast':\n",
    "        return 1\n",
    "    elif region == 'northeast':\n",
    "        return 2\n",
    "    else:\n",
    "        return 3\n",
    "\n",
    "# Daftarkan fungsi sebagai UDF\n",
    "index_udf = udf(index, IntegerType())\n",
    "\n",
    "# Terapkan UDF ke kolom Region untuk membuat kolom baru \"Region_Index\"\n",
    "df = df.withColumn(\"Region_Index\", index_udf(df[\"Region\"]))\n",
    "df = df.drop('region')\n",
    "df.show()"
   ]
  },
  {
   "cell_type": "markdown",
   "metadata": {},
   "source": [
    "Saat ini semua dataset sudah berbentuk angka semua sehingga bisa dilakukan analisis lebih lanjut."
   ]
  },
  {
   "cell_type": "markdown",
   "metadata": {},
   "source": [
    "# Exploratory Data Analysis"
   ]
  },
  {
   "cell_type": "markdown",
   "metadata": {},
   "source": [
    "## 1. Age"
   ]
  },
  {
   "cell_type": "code",
   "execution_count": 38,
   "metadata": {},
   "outputs": [
    {
     "name": "stdout",
     "output_type": "stream",
     "text": [
      "+-------+------------------+\n",
      "|summary|               age|\n",
      "+-------+------------------+\n",
      "|  count|              1337|\n",
      "|   mean|39.222139117427076|\n",
      "| stddev|14.044332734156425|\n",
      "|    min|                18|\n",
      "|    max|                64|\n",
      "+-------+------------------+\n",
      "\n"
     ]
    }
   ],
   "source": [
    "df.describe('age').show()"
   ]
  },
  {
   "cell_type": "code",
   "execution_count": 39,
   "metadata": {},
   "outputs": [
    {
     "data": {
      "image/png": "[encoded data removed]",
      "text/plain": [
       "<Figure size 1000x600 with 1 Axes>"
      ]
     },
     "metadata": {},
     "output_type": "display_data"
    }
   ],
   "source": [
    "import matplotlib.pyplot as plt\n",
    "import seaborn as sns\n",
    "\n",
    "# Misalnya Anda sudah memiliki DataFrame df yang berisi kolom 'age'\n",
    "# Konversi DataFrame PySpark ke Pandas\n",
    "df_pandas = df.select(\"age\").toPandas()\n",
    "\n",
    "# Visualisasi persebaran umur menggunakan histogram\n",
    "plt.figure(figsize=(10, 6))\n",
    "sns.histplot(df_pandas[\"age\"], kde=True, bins=20, color=\"skyblue\")\n",
    "\n",
    "# Menambahkan label dan judul\n",
    "plt.title(\"Distribusi Umur\", fontsize=16)\n",
    "plt.xlabel(\"Umur\", fontsize=12)\n",
    "plt.ylabel(\"Frekuensi\", fontsize=12)\n",
    "\n",
    "# Menampilkan plot\n",
    "plt.show()\n"
   ]
  },
  {
   "cell_type": "code",
   "execution_count": 40,
   "metadata": {},
   "outputs": [
    {
     "name": "stdout",
     "output_type": "stream",
     "text": [
      "Nilai yang paling sering muncul adalah '18' dengan jumlah 69.\n"
     ]
    }
   ],
   "source": [
    "# Menghitung jumlah kemunculan setiap nilai\n",
    "result_age = df.groupBy(\"age\").count()\n",
    "\n",
    "# Mengurutkan berdasarkan jumlah kemunculan (descending) dan mengambil nilai terbanyak\n",
    "\n",
    "most_frequent = result_age.orderBy(col(\"count\").desc()).first()\n",
    "print(f\"Nilai yang paling sering muncul adalah '{most_frequent['age']}' dengan jumlah {most_frequent['count']}.\")"
   ]
  },
  {
   "cell_type": "markdown",
   "metadata": {},
   "source": [
    "Dari grafik di atas bisa diketahui bahwa nasabah paling banyak berumur sekitar 18 tahun-20 tahun."
   ]
  },
  {
   "cell_type": "code",
   "execution_count": 41,
   "metadata": {},
   "outputs": [
    {
     "name": "stdout",
     "output_type": "stream",
     "text": [
      "Korelasi antara age dan charges: 0.2983082125097871\n"
     ]
    }
   ],
   "source": [
    "# Menghitung korelasi antara kolom 'age' dan 'charges'\n",
    "correlation = df.stat.corr(\"age\", \"charges\")\n",
    "\n",
    "# Menampilkan hasil korelasi\n",
    "print(f\"Korelasi antara age dan charges: {correlation}\")\n"
   ]
  },
  {
   "cell_type": "markdown",
   "metadata": {},
   "source": [
    "Bisa dilihat bahwa korelasi antara variabel age dan charges memiliki korelasi yang sangat kecil yaitu di 0.29 sehingga perlu dilakukan penanganan lebih lanjut. Kami disini akan melakukan feature engineering untuk variabel age dengan memberikan label pada umur. Dengan kriteria menurut kemenkes sebagai berikut:\n",
    "1. 10 sampai 18 tahun (remaja). => label 0\n",
    "2. 19 sampai 59 tahun (dewasa). => label 1\n",
    "3. Lebih dari 60 tahun (lansia). => label 2"
   ]
  },
  {
   "cell_type": "code",
   "execution_count": 42,
   "metadata": {},
   "outputs": [
    {
     "name": "stdout",
     "output_type": "stream",
     "text": [
      "+---+------+--------+-----------+----------+-------------+------------+---------+\n",
      "|age|   bmi|children|    charges|sex_binary|smoker_binary|Region_Index|age_Index|\n",
      "+---+------+--------+-----------+----------+-------------+------------+---------+\n",
      "| 60|  39.9|       0|  48173.361|         1|            1|           3|        2|\n",
      "| 40|26.315|       1| 6389.37785|         1|            0|           0|        1|\n",
      "| 54|  30.8|       3|   12105.32|         0|            0|           3|        2|\n",
      "| 46|  22.3|       0|   7147.105|         1|            0|           3|        2|\n",
      "| 18| 17.29|       2| 12829.4551|         1|            1|           2|        0|\n",
      "| 45|  30.2|       1|   7441.053|         1|            0|           3|        2|\n",
      "| 29| 29.64|       1|20277.80751|         1|            0|           2|        1|\n",
      "| 34| 25.27|       1|  4894.7533|         1|            0|           0|        1|\n",
      "| 18|29.165|       0|7323.734819|         0|            0|           2|        0|\n",
      "| 61| 25.08|       0|24513.09126|         0|            0|           1|        2|\n",
      "| 21| 26.03|       0|  2102.2647|         1|            0|           2|        1|\n",
      "| 52|18.335|       0| 9991.03765|         0|            0|           0|        2|\n",
      "| 62| 32.68|       0| 13844.7972|         0|            0|           0|        2|\n",
      "| 39|26.315|       2| 7201.70085|         0|            0|           0|        1|\n",
      "| 48|40.565|       2|45702.02235|         1|            1|           0|        2|\n",
      "| 61|33.915|       0|13143.86485|         1|            0|           2|        2|\n",
      "| 33| 39.82|       1|  4795.6568|         0|            0|           1|        1|\n",
      "| 32|29.735|       0| 4357.04365|         0|            0|           0|        1|\n",
      "| 61| 29.07|       0| 29141.3603|         0|            1|           0|        2|\n",
      "| 49| 27.17|       0|  8601.3293|         0|            0|           1|        2|\n",
      "+---+------+--------+-----------+----------+-------------+------------+---------+\n",
      "only showing top 20 rows\n",
      "\n"
     ]
    }
   ],
   "source": [
    "def klasifikasi_umur(age):\n",
    "    if 15<=age<=19:\n",
    "        return 0\n",
    "    elif 20<=age<=44:\n",
    "        return 1\n",
    "    elif 45<=age<=64:\n",
    "        return 2\n",
    "    \n",
    "# Daftarkan fungsi sebagai UDF\n",
    "index_udf = udf(klasifikasi_umur, IntegerType())\n",
    "\n",
    "# Terapkan UDF ke kolom Region untuk membuat kolom baru \"Region_Index\"\n",
    "df = df.withColumn(\"age_Index\", index_udf(df[\"age\"]))\n",
    "df.show()"
   ]
  },
  {
   "cell_type": "code",
   "execution_count": 43,
   "metadata": {},
   "outputs": [
    {
     "name": "stdout",
     "output_type": "stream",
     "text": [
      "+---------+-----+\n",
      "|age_Index|count|\n",
      "+---------+-----+\n",
      "|        1|  672|\n",
      "|        2|  529|\n",
      "|        0|  136|\n",
      "+---------+-----+\n",
      "\n"
     ]
    }
   ],
   "source": [
    "age = df.groupBy('age_Index').count()\n",
    "age.show()"
   ]
  },
  {
   "cell_type": "code",
   "execution_count": 44,
   "metadata": {},
   "outputs": [
    {
     "data": {
      "image/png": "[encoded data removed]",
      "text/plain": [
       "<Figure size 1000x600 with 1 Axes>"
      ]
     },
     "metadata": {},
     "output_type": "display_data"
    }
   ],
   "source": [
    "import matplotlib.pyplot as plt\n",
    "import seaborn as sns\n",
    "\n",
    "# Misalnya Anda sudah memiliki DataFrame df yang berisi kolom 'age'\n",
    "# Konversi DataFrame PySpark ke Pandas\n",
    "df_pandas = df.select(\"age_Index\").toPandas()\n",
    "\n",
    "# Visualisasi persebaran umur menggunakan histogram\n",
    "plt.figure(figsize=(10, 6))\n",
    "sns.histplot(df_pandas[\"age_Index\"], kde=True, bins=20, color=\"skyblue\")\n",
    "\n",
    "# Menambahkan label dan judul\n",
    "plt.title(\"Distribusi Umur\", fontsize=16)\n",
    "plt.xlabel(\"Umur\", fontsize=12)\n",
    "plt.ylabel(\"Frekuensi\", fontsize=12)\n",
    "\n",
    "# Menampilkan plot\n",
    "plt.show()\n"
   ]
  },
  {
   "cell_type": "code",
   "execution_count": 45,
   "metadata": {},
   "outputs": [
    {
     "name": "stdout",
     "output_type": "stream",
     "text": [
      "Korelasi antara age dan charges: 0.2564945607404583\n"
     ]
    }
   ],
   "source": [
    "# Menghitung korelasi antara kolom 'age' dan 'charges'\n",
    "correlation = df.stat.corr(\"age_Index\", \"charges\")\n",
    "\n",
    "# Menampilkan hasil korelasi\n",
    "print(f\"Korelasi antara age dan charges: {correlation}\")\n"
   ]
  },
  {
   "cell_type": "markdown",
   "metadata": {},
   "source": [
    "Nilai korelasi ini lebih kecil dibandingkan sebelumnya sehingga variabel age_Index tidak akan dipakai dan tetap memakai variabel age."
   ]
  },
  {
   "cell_type": "code",
   "execution_count": 46,
   "metadata": {},
   "outputs": [
    {
     "name": "stdout",
     "output_type": "stream",
     "text": [
      "+---+------+--------+-----------+----------+-------------+------------+\n",
      "|age|   bmi|children|    charges|sex_binary|smoker_binary|Region_Index|\n",
      "+---+------+--------+-----------+----------+-------------+------------+\n",
      "| 60|  39.9|       0|  48173.361|         1|            1|           3|\n",
      "| 40|26.315|       1| 6389.37785|         1|            0|           0|\n",
      "| 54|  30.8|       3|   12105.32|         0|            0|           3|\n",
      "| 46|  22.3|       0|   7147.105|         1|            0|           3|\n",
      "| 18| 17.29|       2| 12829.4551|         1|            1|           2|\n",
      "| 45|  30.2|       1|   7441.053|         1|            0|           3|\n",
      "| 29| 29.64|       1|20277.80751|         1|            0|           2|\n",
      "| 34| 25.27|       1|  4894.7533|         1|            0|           0|\n",
      "| 18|29.165|       0|7323.734819|         0|            0|           2|\n",
      "| 61| 25.08|       0|24513.09126|         0|            0|           1|\n",
      "| 21| 26.03|       0|  2102.2647|         1|            0|           2|\n",
      "| 52|18.335|       0| 9991.03765|         0|            0|           0|\n",
      "| 62| 32.68|       0| 13844.7972|         0|            0|           0|\n",
      "| 39|26.315|       2| 7201.70085|         0|            0|           0|\n",
      "| 48|40.565|       2|45702.02235|         1|            1|           0|\n",
      "| 61|33.915|       0|13143.86485|         1|            0|           2|\n",
      "| 33| 39.82|       1|  4795.6568|         0|            0|           1|\n",
      "| 32|29.735|       0| 4357.04365|         0|            0|           0|\n",
      "| 61| 29.07|       0| 29141.3603|         0|            1|           0|\n",
      "| 49| 27.17|       0|  8601.3293|         0|            0|           1|\n",
      "+---+------+--------+-----------+----------+-------------+------------+\n",
      "only showing top 20 rows\n",
      "\n"
     ]
    }
   ],
   "source": [
    "df = df.drop('age_Index')\n",
    "df.show()"
   ]
  },
  {
   "cell_type": "markdown",
   "metadata": {},
   "source": [
    "## 2. BMI"
   ]
  },
  {
   "cell_type": "code",
   "execution_count": 23,
   "metadata": {},
   "outputs": [
    {
     "data": {
      "image/png": "[encoded data removed]",
      "text/plain": [
       "<Figure size 640x480 with 1 Axes>"
      ]
     },
     "metadata": {},
     "output_type": "display_data"
    }
   ],
   "source": [
    "import matplotlib.pyplot as plt\n",
    "\n",
    "# Ambil data dari kolom BMI dan konversi ke Pandas DataFrame\n",
    "bmi_data = df.select(\"bmi\").toPandas()\n",
    "\n",
    "# Membuat histogram untuk kolom BMI\n",
    "plt.hist(bmi_data[\"bmi\"], bins=20, color='blue', alpha=0.7)\n",
    "plt.title(\"Distribusi BMI\")\n",
    "plt.xlabel(\"BMI\")\n",
    "plt.ylabel(\"Frekuensi\")\n",
    "plt.show()\n"
   ]
  },
  {
   "cell_type": "markdown",
   "metadata": {},
   "source": [
    "Dari grafik di atas terdapat indikasi outlier dengan BMI di atas 50."
   ]
  },
  {
   "cell_type": "code",
   "execution_count": 49,
   "metadata": {},
   "outputs": [
    {
     "data": {
      "image/png": "[encoded data removed]",
      "text/plain": [
       "<Figure size 1200x600 with 1 Axes>"
      ]
     },
     "metadata": {},
     "output_type": "display_data"
    }
   ],
   "source": [
    "import seaborn as sns\n",
    "import matplotlib.pyplot as plt\n",
    "\n",
    "# Ambil data dari kolom 'age' dan 'charges' dan konversi ke Pandas DataFrame\n",
    "age_charges_data = df.select(\"bmi\").toPandas()\n",
    "\n",
    "# Membuat boxplot untuk kolom 'age' dan 'charges'\n",
    "plt.figure(figsize=(12, 6))\n",
    "\n",
    "# Boxplot untuk Age\n",
    "plt.subplot(1, 2, 1)\n",
    "sns.boxplot(x=age_charges_data[\"bmi\"], color='skyblue')\n",
    "plt.title(\"Boxplot Distribusi BMI\")\n",
    "plt.xlabel(\"BMI\")\n",
    "\n",
    "\n",
    "# Menampilkan plot\n",
    "plt.tight_layout()\n",
    "plt.show()\n"
   ]
  },
  {
   "cell_type": "markdown",
   "metadata": {},
   "source": [
    "Terdapat outlier "
   ]
  }
 ],
 "metadata": {
  "kernelspec": {
   "display_name": "Python 3",
   "language": "python",
   "name": "python3"
  },
  "language_info": {
   "codemirror_mode": {
    "name": "ipython",
    "version": 3
   },
   "file_extension": ".py",
   "mimetype": "text/x-python",
   "name": "python",
   "nbconvert_exporter": "python",
   "pygments_lexer": "ipython3",
   "version": "3.12.1"
  }
 },
 "nbformat": 4,
 "nbformat_minor": 2
}
